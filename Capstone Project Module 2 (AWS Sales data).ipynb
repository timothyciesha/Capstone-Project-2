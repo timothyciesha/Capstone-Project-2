{
 "cells": [
  {
   "cell_type": "code",
   "execution_count": 1,
   "metadata": {},
   "outputs": [],
   "source": [
    "import pandas as pd\n",
    "import numpy as np\n",
    "import matplotlib.pyplot as plt\n",
    "import seaborn as sns\n",
    "import plotly.express as px\n",
    "import scipy.stats as stats\n",
    "from scipy.stats import normaltest, chi2_contingency, mannwhitneyu, ttest_ind\n",
    "\n",
    "import warnings\n",
    "warnings.filterwarnings(\"ignore\")"
   ]
  },
  {
   "cell_type": "markdown",
   "metadata": {},
   "source": [
    "# Background\n",
    "\n",
    "A fictitious SaaS (Software as a Service) company operates globally, providing sales and marketing software solutions to various industries, including energy, finance, and more. The company caters to different customer segments, such as Small and Medium Businesses (SMBs), Strategic clients, and Enterprise customers. While the company is growing, it faces challenges in maximizing profitability, managing customer relationships, and optimizing its sales strategy.\n",
    "\n",
    "The SaaS company offers multiple products under various licensing models and applies discounts to transactions, which can influence sales volumes and profit margins. With a large and diverse customer base across different regions and industries, understanding the drivers of sales performance, customer behavior, and profitability is crucial to sustaining growth and improving the business's overall financial health."
   ]
  },
  {
   "cell_type": "markdown",
   "metadata": {},
   "source": []
  }
 ],
 "metadata": {
  "kernelspec": {
   "display_name": "base",
   "language": "python",
   "name": "python3"
  },
  "language_info": {
   "codemirror_mode": {
    "name": "ipython",
    "version": 3
   },
   "file_extension": ".py",
   "mimetype": "text/x-python",
   "name": "python",
   "nbconvert_exporter": "python",
   "pygments_lexer": "ipython3",
   "version": "3.12.4"
  }
 },
 "nbformat": 4,
 "nbformat_minor": 2
}
